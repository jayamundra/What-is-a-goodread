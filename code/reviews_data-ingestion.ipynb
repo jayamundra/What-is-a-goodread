{
  "metadata": {
    "name": "jm8834_phase1",
    "kernelspec": {
      "language": "scala",
      "name": "spark2-scala"
    },
    "language_info": {
      "codemirror_mode": "text/x-scala",
      "file_extension": ".scala",
      "mimetype": "text/x-scala",
      "name": "scala",
      "pygments_lexer": "scala"
    }
  },
  "nbformat": 4,
  "nbformat_minor": 2,
  "cells": [
    {
      "cell_type": "code",
      "execution_count": 0,
      "metadata": {
        "autoscroll": "auto"
      },
      "outputs": [],
      "source": "val filePath \u003d \"bdad/dataset/goodreads_reviews_dedup.json\"\n\nval reviews_df \u003d spark.read.json(filePath)\nz.show(reviews_df)"
    },
    {
      "cell_type": "code",
      "execution_count": 1,
      "metadata": {
        "autoscroll": "auto"
      },
      "outputs": [],
      "source": "reviews_df.printSchema()"
    },
    {
      "cell_type": "code",
      "execution_count": 2,
      "metadata": {
        "autoscroll": "auto"
      },
      "outputs": [],
      "source": "reviews_df.cache().count"
    },
    {
      "cell_type": "markdown",
      "metadata": {},
      "source": "### Data Cleaning"
    },
    {
      "cell_type": "markdown",
      "metadata": {},
      "source": "Dropping the columns that are not required for the analytics [date_added, date_updated]"
    },
    {
      "cell_type": "code",
      "execution_count": 5,
      "metadata": {
        "autoscroll": "auto"
      },
      "outputs": [],
      "source": "val reviews_base_df \u003d reviews_df.select(\n    \"book_id\",\n    \"user_id\",\n    \"review_id\",\n    \"review_text\",\n    \"rating\",\n    \"n_votes\",\n    \"n_comments\",\n    \"read_at\",\n    \"started_at\",\n    \"date_updated\"\n)\n\nz.show(reviews_base_df)"
    },
    {
      "cell_type": "code",
      "execution_count": 6,
      "metadata": {
        "autoscroll": "auto"
      },
      "outputs": [],
      "source": "val non_null_reviews_df \u003d reviews_base_df.where(\"book_id is not NULL\").where(\"user_id is not NULL\").where(\"review_id is not NULL\")\n\nz.show(non_null_reviews_df)"
    },
    {
      "cell_type": "code",
      "execution_count": 7,
      "metadata": {
        "autoscroll": "auto"
      },
      "outputs": [],
      "source": "non_null_reviews_df.count"
    },
    {
      "cell_type": "markdown",
      "metadata": {},
      "source": "Setting default value for values for columns that are allowed to be empty"
    },
    {
      "cell_type": "code",
      "execution_count": 9,
      "metadata": {
        "autoscroll": "auto"
      },
      "outputs": [],
      "source": "\nimport org.apache.spark.sql.functions.{to_date, to_timestamp}\n\nval casted_reviews_df \u003d non_null_reviews_df.withColumnRenamed(\"date_updated\",\"date_modified\").withColumn(\"n_votes\", col(\"n_votes\").cast(\"long\")).withColumn(\"n_comments\", col(\"n_comments\").cast(\"long\")).withColumn(\"rating\", col(\"rating\").cast(\"int\")).withColumn(\"read_at\", to_timestamp($\"read_at\", \"EEE MMM dd HH:mm:ss z yyyy\")).withColumn(\"started_at\", to_timestamp($\"started_at\", \"EEE MMM dd HH:mm:ss z yyyy\")).withColumn(\"date_modified\", to_timestamp($\"date_modified\", \"EEE MMM dd HH:mm:ss z yyyy\"))\n\nval cleaned_reviews_df \u003d casted_reviews_df.na.fill(0, Array(\"n_votes\", \"n_comments\", \"rating\"))\n\ncleaned_reviews_df.printSchema()\n\n"
    },
    {
      "cell_type": "markdown",
      "metadata": {},
      "source": "Printing sample record after cleaning"
    },
    {
      "cell_type": "code",
      "execution_count": 11,
      "metadata": {
        "autoscroll": "auto"
      },
      "outputs": [],
      "source": "z.show(cleaned_reviews_df)"
    },
    {
      "cell_type": "markdown",
      "metadata": {},
      "source": "### Data Profiling"
    },
    {
      "cell_type": "markdown",
      "metadata": {},
      "source": "#### Total number of reviews"
    },
    {
      "cell_type": "code",
      "execution_count": 14,
      "metadata": {
        "autoscroll": "auto"
      },
      "outputs": [],
      "source": "cleaned_reviews_df.cache().count\n"
    },
    {
      "cell_type": "markdown",
      "metadata": {},
      "source": "#### Total books reviewed"
    },
    {
      "cell_type": "code",
      "execution_count": 16,
      "metadata": {
        "autoscroll": "auto"
      },
      "outputs": [],
      "source": "cleaned_reviews_df.select(\"book_id\").distinct().count()\n"
    },
    {
      "cell_type": "markdown",
      "metadata": {},
      "source": "#### Count of reviews given by each user"
    },
    {
      "cell_type": "code",
      "execution_count": 18,
      "metadata": {
        "autoscroll": "auto"
      },
      "outputs": [],
      "source": "\nval user_count_df \u003d cleaned_reviews_df.groupBy(\"user_id\").count()\n\nz.show(user_count_df)"
    },
    {
      "cell_type": "markdown",
      "metadata": {},
      "source": "#### Count of reviews given for each book"
    },
    {
      "cell_type": "code",
      "execution_count": 20,
      "metadata": {
        "autoscroll": "auto"
      },
      "outputs": [],
      "source": "val book_count_df \u003d cleaned_reviews_df.groupBy(\"book_id\").count()\n\nz.show(book_count_df)"
    },
    {
      "cell_type": "markdown",
      "metadata": {},
      "source": "#### Average rating of each book"
    },
    {
      "cell_type": "code",
      "execution_count": 22,
      "metadata": {
        "autoscroll": "auto"
      },
      "outputs": [],
      "source": "val average_rating_df \u003d cleaned_reviews_df.groupBy(\"book_id\").agg(avg(\"rating\"))\n\nz.show(average_rating_df)"
    },
    {
      "cell_type": "markdown",
      "metadata": {},
      "source": "#### Book count for each rating"
    },
    {
      "cell_type": "code",
      "execution_count": 24,
      "metadata": {
        "autoscroll": "auto"
      },
      "outputs": [],
      "source": "val rating_book_count_df \u003d cleaned_reviews_df.groupBy(\"rating\").count()\n\nz.show(rating_book_count_df)"
    },
    {
      "cell_type": "markdown",
      "metadata": {},
      "source": "#### Average length of review text"
    },
    {
      "cell_type": "code",
      "execution_count": 26,
      "metadata": {
        "autoscroll": "auto"
      },
      "outputs": [],
      "source": "cleaned_reviews_df.withColumn(\"review_text_length\", length(col(\"review_text\"))).select(avg($\"review_text_length\")).show()\n"
    },
    {
      "cell_type": "code",
      "execution_count": 27,
      "metadata": {
        "autoscroll": "auto"
      },
      "outputs": [],
      "source": "cleaned_reviews_df.write.mode(\"overwrite\").parquet(\"bdad/dataset/reviews.parquet\")"
    }
  ]
}