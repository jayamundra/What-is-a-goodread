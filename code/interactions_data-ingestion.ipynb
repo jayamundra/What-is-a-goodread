{
  "metadata": {
    "name": "Interactions_Data_Ingestion",
    "kernelspec": {
      "language": "scala",
      "name": "spark2-scala"
    },
    "language_info": {
      "codemirror_mode": "text/x-scala",
      "file_extension": ".scala",
      "mimetype": "text/x-scala",
      "name": "scala",
      "pygments_lexer": "scala"
    }
  },
  "nbformat": 4,
  "nbformat_minor": 2,
  "cells": [
    {
      "cell_type": "markdown",
      "metadata": {},
      "source": "### Importing the goodreads Interactions dataset"
    },
    {
      "cell_type": "code",
      "execution_count": 1,
      "metadata": {
        "autoscroll": "auto"
      },
      "outputs": [],
      "source": "val df_user \u003d spark.read\n                    .option(\"header\", \"true\")\n                    .option(\"multiline\", \"true\")\n                    .option(\"inferSchema\", \"true\")\n                    .csv(\"BDAD_Project/user_id_map.csv\")\n                    .as(\"dfUser\")\n\ndf_user.printSchema()\n\nval df_book \u003d spark.read\n                    .option(\"header\", \"true\")\n                    .option(\"multiline\", \"true\")\n                    .option(\"inferSchema\", \"true\")\n                    .csv(\"BDAD_Project/book_id_map.csv\")\n                    .as(\"dfBook\")\n\ndf_book.printSchema()\n\nval df_interactions \u003d spark.read\n                    .option(\"header\", \"true\")\n                    .option(\"multiline\", \"true\")\n                    .option(\"inferSchema\", \"true\")\n                    .csv(\"BDAD_Project/goodreads_interactions.csv\")\n                    .as(\"dfInteraction\")\n\ndf_interactions.printSchema()"
    },
    {
      "cell_type": "code",
      "execution_count": 2,
      "metadata": {
        "autoscroll": "auto"
      },
      "outputs": [],
      "source": "df_interactions.count"
    },
    {
      "cell_type": "markdown",
      "metadata": {},
      "source": "### Data Cleaning"
    },
    {
      "cell_type": "code",
      "execution_count": 4,
      "metadata": {
        "autoscroll": "auto"
      },
      "outputs": [],
      "source": "val joined_df \u003d df_interactions.join(\n                    df_book,\n                    col(\"dfInteraction.book_id\") \u003d\u003d\u003d col(\"dfBook.book_id_csv\"),\n                    \"inner\"\n                ).join(\n                    df_user,\n                    col(\"dfInteraction.user_id\") \u003d\u003d\u003d col(\"dfUser.user_id_csv\"),\n                    \"inner\"\n                )\nval filtered_df \u003d joined_df.select(\n                    col(\"dfUser.user_id\"),\n                    col(\"dfBook.book_id\"),\n                    col(\"dfInteraction.is_read\"),\n                    col(\"dfInteraction.rating\"),\n                    col(\"dfInteraction.is_reviewed\")\n                )\n\nfiltered_df.printSchema()"
    },
    {
      "cell_type": "code",
      "execution_count": 5,
      "metadata": {
        "autoscroll": "auto"
      },
      "outputs": [],
      "source": "val finalInteraction_df \u003d filtered_df.withColumn(\"book_id\", col(\"book_id\").cast(\"string\")).na.fill(\"\", Array(\"user_id\", \"book_id\")).na.fill(0, Array(\"is_read\", \"rating\", \"is_reviewed\"))\n\nfinalInteraction_df.printSchema()"
    },
    {
      "cell_type": "markdown",
      "metadata": {},
      "source": "One record after data cleaning"
    },
    {
      "cell_type": "code",
      "execution_count": 7,
      "metadata": {
        "autoscroll": "auto"
      },
      "outputs": [],
      "source": "finalInteraction_df.show(1, false)"
    },
    {
      "cell_type": "markdown",
      "metadata": {},
      "source": "### Data Profiling"
    },
    {
      "cell_type": "markdown",
      "metadata": {},
      "source": "Number of Ratings given by each user"
    },
    {
      "cell_type": "code",
      "execution_count": 10,
      "metadata": {
        "autoscroll": "auto"
      },
      "outputs": [],
      "source": "val userRatingCount \u003d finalInteraction_df.where(col(\"rating\") \u003d!\u003d 0).groupBy(\"user_id\").count()\nz.show(userRatingCount)"
    },
    {
      "cell_type": "markdown",
      "metadata": {},
      "source": "Number of Ratings recieved by each book"
    },
    {
      "cell_type": "code",
      "execution_count": 12,
      "metadata": {
        "autoscroll": "auto"
      },
      "outputs": [],
      "source": "val bookRatingCount \u003d finalInteraction_df.where(col(\"rating\") \u003d!\u003d 0).groupBy(\"book_id\").count()\nz.show(bookRatingCount)\n"
    },
    {
      "cell_type": "markdown",
      "metadata": {},
      "source": "Average Rating of each book"
    },
    {
      "cell_type": "code",
      "execution_count": 14,
      "metadata": {
        "autoscroll": "auto"
      },
      "outputs": [],
      "source": "val bookAvgRating \u003d finalInteraction_df.where(col(\"rating\") \u003d!\u003d 0).groupBy(\"book_id\").avg(\"rating\") \nz.show(bookAvgRating)"
    },
    {
      "cell_type": "markdown",
      "metadata": {},
      "source": "Number of Books for different Ratings"
    },
    {
      "cell_type": "code",
      "execution_count": 16,
      "metadata": {
        "autoscroll": "auto"
      },
      "outputs": [],
      "source": "var ratingBookCount \u003d bookAvgRating.withColumn(\"rating\",  floor(col(\"avg(rating)\"))).groupBy(\"rating\").count()\nz.show(ratingBookCount)"
    },
    {
      "cell_type": "markdown",
      "metadata": {},
      "source": "Number of Books read by a user"
    },
    {
      "cell_type": "code",
      "execution_count": 18,
      "metadata": {
        "autoscroll": "auto"
      },
      "outputs": [],
      "source": "val userBookCount \u003d finalInteraction_df.where(col(\"is_read\") \u003d\u003d\u003d 1).groupBy(\"user_id\").count()\nz.show(userBookCount)"
    },
    {
      "cell_type": "markdown",
      "metadata": {},
      "source": "### Saving the cleaned dataset"
    },
    {
      "cell_type": "code",
      "execution_count": 20,
      "metadata": {
        "autoscroll": "auto"
      },
      "outputs": [],
      "source": "finalInteraction_df.write.mode(\"overwrite\").parquet(\"BDAD_Project/interactions.parquet\")"
    }
  ]
}