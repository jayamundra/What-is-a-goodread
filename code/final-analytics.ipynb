{
  "metadata": {
    "name": "FinalAnalytics",
    "kernelspec": {
      "language": "scala",
      "name": "spark2-scala"
    },
    "language_info": {
      "codemirror_mode": "text/x-scala",
      "file_extension": ".scala",
      "mimetype": "text/x-scala",
      "name": "scala",
      "pygments_lexer": "scala"
    }
  },
  "nbformat": 4,
  "nbformat_minor": 2,
  "cells": [
    {
      "cell_type": "code",
      "execution_count": 0,
      "metadata": {
        "autoscroll": "auto"
      },
      "outputs": [],
      "source": "val interactionsDF \u003d spark.read.parquet(\"BDAD_Project/interactions.parquet\").cache()\nval authorsDF \u003d spark.read.parquet(\"BDAD_Project/goodreads_authors_3.parquet\").cache()\nval booksDF \u003d spark.read.parquet(\"BDAD_Project/books_genres.parquet\").cache()\nval reviewsDF \u003d spark.read.parquet(\"BDAD_Project/reviews.parquet\").cache()\nval reviewSentimentDF \u003d spark.read.parquet(\"BDAD_Project/reviewsSentiment.parquet\").cache()\n\nauthorsDF.printSchema()\nbooksDF.printSchema()\nreviewsDF.printSchema()\ninteractionsDF.printSchema()\nreviewSentimentDF.printSchema()"
    },
    {
      "cell_type": "markdown",
      "metadata": {},
      "source": "### Most popular genres"
    },
    {
      "cell_type": "code",
      "execution_count": 2,
      "metadata": {
        "autoscroll": "auto"
      },
      "outputs": [],
      "source": "var bookGenres \u003d booksDF.select(\"genres\").withColumn(\"all_genres\", explode(col(\"genres\"))).groupBy(\"all_genres\").count().orderBy(desc(\"count\"))\nz.show(bookGenres, 10)"
    },
    {
      "cell_type": "markdown",
      "metadata": {},
      "source": "### Top K books"
    },
    {
      "cell_type": "code",
      "execution_count": 4,
      "metadata": {
        "autoscroll": "auto"
      },
      "outputs": [],
      "source": "var ratingsCountThreshold \u003d 500;\nbooksDF.select(\"book_id\", \"title\", \"average_rating\", \"ratings_count\").filter(booksDF(\"ratings_count\") \u003e ratingsCountThreshold).orderBy(desc(\"average_rating\")).show(5, false)"
    },
    {
      "cell_type": "markdown",
      "metadata": {},
      "source": "### Top K books by genre"
    },
    {
      "cell_type": "code",
      "execution_count": 6,
      "metadata": {
        "autoscroll": "auto"
      },
      "outputs": [],
      "source": "val allGenres \u003d booksDF.select(\"genres\").withColumn(\"genres_1\", explode(col(\"genres\"))).select(\"genres_1\").distinct().collect()"
    },
    {
      "cell_type": "code",
      "execution_count": 7,
      "metadata": {
        "autoscroll": "auto"
      },
      "outputs": [],
      "source": "for (genre \u003c- allGenres) {\n    println(genre)\n    booksDF.select(\"book_id\", \"title\", \"average_rating\", \"ratings_count\", \"genres\").filter(array_contains(col(\"genres\"), genre(0))).orderBy(desc(\"average_rating\")).filter(booksDF(\"ratings_count\") \u003e ratingsCountThreshold).show(5, false)\n}"
    },
    {
      "cell_type": "markdown",
      "metadata": {},
      "source": "### Top rated authors "
    },
    {
      "cell_type": "code",
      "execution_count": 9,
      "metadata": {
        "autoscroll": "auto"
      },
      "outputs": [],
      "source": "val averageAuthorRating \u003d authorsDF.select(avg($\"ratings_count\"))\nval average_ratings \u003d averageAuthorRating.collect()(0)(0)\nval topAuthors \u003d authorsDF.select(\"author_id\", \"name\", \"average_rating\", \"ratings_count\").filter(authorsDF(\"ratings_count\") \u003e average_ratings).orderBy(desc(\"average_rating\"))\nz.show(topAuthors, 5)"
    },
    {
      "cell_type": "markdown",
      "metadata": {},
      "source": "### Recommendation to user based on his/her read books"
    },
    {
      "cell_type": "code",
      "execution_count": 11,
      "metadata": {
        "autoscroll": "auto"
      },
      "outputs": [],
      "source": "var sampleUserId \u003d \"8842281e1d1347389f2ab93d60773d4d\"\nvar userRatingThres \u003d 4.5;\n\nvar userDF \u003d reviewsDF.where(col(\"user_id\") \u003d\u003d\u003d sampleUserId).cache()\nvar userTopBooks \u003d userDF.where(col(\"rating\") \u003e userRatingThres).select(\"book_id\").collect.toList.map(x \u003d\u003e x(0))\nvar userSimilarBooksDF \u003d booksDF.filter(col(\"book_id\").isin(userTopBooks:_*)).select(\"book_id\", \"title\", \"average_rating\", \"ratings_count\", \"similar_books\").cache()\n\nuserSimilarBooksDF.orderBy(desc(\"average_rating\")).show(5, false)\n\nvar userSimilarBooks \u003d userSimilarBooksDF.select(\"similar_books\").withColumn(\"similar_book_ids\", explode(col(\"similar_books\"))).select(\"similar_book_ids\").distinct().collect.toList.map(x \u003d\u003e x(0))\nval userBookRecDF \u003d booksDF.filter(col(\"book_id\").isin(userSimilarBooks:_*)).filter(booksDF(\"ratings_count\") \u003e ratingsCountThreshold).orderBy(desc(\"average_rating\")).select(\"book_id\", \"title\", \"average_rating\", \"ratings_count\").show(5, false)"
    },
    {
      "cell_type": "markdown",
      "metadata": {},
      "source": "### Recommendation to user based on similar users"
    },
    {
      "cell_type": "code",
      "execution_count": 13,
      "metadata": {
        "autoscroll": "auto"
      },
      "outputs": [],
      "source": "// var sampleUserId \u003d \"8842281e1d1347389f2ab93d60773d4d\"\n// var userRatingThres \u003d 3.5;\n\n// var userDF \u003d reviewsDF.where(col(\"user_id\") \u003d\u003d\u003d sampleUserId).cache()\nvar userTopBooks \u003d userDF.where(col(\"rating\") \u003e userRatingThres).select(\"book_id\").collect.toList.map(x \u003d\u003e x(0))\nvar similarUsers \u003d reviewsDF.filter(col(\"book_id\").isin(userTopBooks:_*)).filter(col(\"rating\") \u003e userRatingThres).select(\"user_id\").distinct().collect.toList.map(x \u003d\u003e x(0))\n\nvar similarUsersBooks \u003d reviewsDF.filter(col(\"user_id\").isin(similarUsers:_*)).filter(col(\"rating\") \u003e userRatingThres).select(\"book_id\").distinct().collect.toList.map(x \u003d\u003e x(0))\nvar similarUserBooksFiltered \u003d similarUsersBooks diff userTopBooks\nval similarUsersBookRecDF \u003d booksDF.filter(col(\"book_id\").isin(similarUserBooksFiltered:_*)).filter(booksDF(\"ratings_count\") \u003e ratingsCountThreshold).orderBy(desc(\"average_rating\")).select(\"book_id\", \"title\", \"average_rating\", \"ratings_count\").show(10, false)"
    },
    {
      "cell_type": "markdown",
      "metadata": {},
      "source": "### Recommendation to user based on their liked authors\n"
    },
    {
      "cell_type": "code",
      "execution_count": 15,
      "metadata": {
        "autoscroll": "auto"
      },
      "outputs": [],
      "source": "// var sampleUserId \u003d \"8842281e1d1347389f2ab93d60773d4d\"\n// var userRatingThres \u003d 3.5;\n\n//val userDF \u003d reviewsDF.where(col(\"user_id\") \u003d\u003d\u003d sampleUserId).cache()\n\nval userTopBookIds \u003d userDF.where(col(\"rating\") \u003e userRatingThres).select(\"book_id\").collect.toList.map(x \u003d\u003e x(0))\nval userTopBooks \u003d booksDF.filter(col(\"book_id\").isin(userTopBookIds:_*)).select(\"book_id\", \"title\", \"average_rating\", \"ratings_count\", \"author_ids\").cache()\n\nval userTopAuthors \u003d userTopBooks.select(\"author_ids\").withColumn(\"authors\", explode(col(\"author_ids\"))).select(\"authors\").distinct().collect.toList.map(x \u003d\u003e x(0))\n\n\nvar recByAuthors \u003d booksDF.select(\"book_id\", \"title\", \"average_rating\", \"ratings_count\", \"author_ids\").withColumn(\"authors\", explode(col(\"author_ids\"))).filter(col(\"authors\").isin(userTopAuthors:_*)).select(\"authors\", \"book_id\", \"title\", \"average_rating\", \"ratings_count\")\nvar recByAuthorsDF \u003d recByAuthors.join(authorsDF.select(\"name\", \"author_id\"), recByAuthors(\"authors\") \u003d\u003d\u003d authorsDF(\"author_id\"), \"left_outer\").drop(recByAuthors(\"authors\")).filter(recByAuthors(\"ratings_count\") \u003e ratingsCountThreshold).orderBy(desc(\"average_rating\")).select(\"name\", \"title\", \"average_rating\", \"ratings_count\")\n\nz.show(recByAuthorsDF, 5)\n"
    },
    {
      "cell_type": "markdown",
      "metadata": {},
      "source": "### Recommendation to user based on review sentiments\n"
    },
    {
      "cell_type": "code",
      "execution_count": 17,
      "metadata": {
        "autoscroll": "auto"
      },
      "outputs": [],
      "source": "// var sampleUserId \u003d \"8842281e1d1347389f2ab93d60773d4d\"\n// var ratingsCountThreshold \u003d 4\n\nvar userSentimentDF \u003d reviewSentimentDF.where(col(\"user_id\") \u003d\u003d\u003d sampleUserId).cache()\nvar userSentimentTopBooks \u003d userSentimentDF.orderBy(desc(\"score\")).where(col(\"rating\") \u003e userRatingThres).select(\"book_id\").limit(10).collect.toList.map(x \u003d\u003e x(0))\nvar userSentimentSimilarBooksDF \u003d booksDF.filter(col(\"book_id\").isin(userSentimentTopBooks:_*)).select(\"book_id\", \"title\", \"average_rating\", \"ratings_count\", \"similar_books\").cache()\n\nuserSentimentSimilarBooksDF.orderBy(desc(\"average_rating\")).show(5, false)\n\nvar userSentimentSimilarBooks \u003d userSentimentSimilarBooksDF.select(\"similar_books\").withColumn(\"similar_book_ids\", explode(col(\"similar_books\"))).select(\"similar_book_ids\").distinct().collect.toList.map(x \u003d\u003e x(0))\nval userSentimentBookRecDF \u003d booksDF.filter(col(\"book_id\").isin(userSentimentSimilarBooks:_*)).filter(booksDF(\"ratings_count\") \u003e ratingsCountThreshold).orderBy(desc(\"average_rating\")).select(\"book_id\", \"title\", \"average_rating\", \"ratings_count\").show(5, false)"
    },
    {
      "cell_type": "markdown",
      "metadata": {},
      "source": "### Most popular genre for a user"
    },
    {
      "cell_type": "code",
      "execution_count": 19,
      "metadata": {
        "autoscroll": "auto"
      },
      "outputs": [],
      "source": "// var sampleUserId \u003d \"8842281e1d1347389f2ab93d60773d4d\"\n// var userRatingThres \u003d 3.5;\n\n//val userDF \u003d reviewsDF.where(col(\"user_id\") \u003d\u003d\u003d sampleUserId).cache()\nval userTopBookIds \u003d userDF.where(col(\"rating\") \u003e userRatingThres).select(\"book_id\").collect.toList.map(x \u003d\u003e x(0))\nval userTopBooks \u003d booksDF.filter(col(\"book_id\").isin(userTopBookIds:_*)).select(\"genres\").withColumn(\"all_genres\", explode(col(\"genres\"))).groupBy(\"all_genres\").count().orderBy(desc(\"count\"))\nz.show(userTopBooks, 10)"
    },
    {
      "cell_type": "markdown",
      "metadata": {},
      "source": "### Sentiment Analysis Score"
    },
    {
      "cell_type": "code",
      "execution_count": 21,
      "metadata": {
        "autoscroll": "auto"
      },
      "outputs": [],
      "source": "// val AFINN \u003d sc.textFile(\"BDAD_Project/AFINN-111.txt\").map(x\u003d\u003e x.split(\"\\t\")).map(x\u003d\u003e(x(0).toString,x(1).toInt))\n// val tempRDD \u003d reviewsDF.select(col(\"review_id\"), col(\"review_text\")).rdd.map(a \u003d\u003e (a.getString(0), a.getString(1).split(\" \"))).flatMapValues(identity[Array[String]]).map(a \u003d\u003e (a._2.filter(_ \u003e\u003d \u0027 \u0027), a._1))\n// val temp1RDD \u003d tempRDD.join(AFINN).map(a \u003d\u003e a._2).map(a \u003d\u003e (a._1, (a._2, 1))).reduceByKey((x, y) \u003d\u003e (x._1 + y._1, x._2 + y._2)).map(a \u003d\u003e (a._1, a._2._1.toFloat / a._2._2)).toDF().withColumnRenamed(\"_1\", \"reviewID\").withColumnRenamed(\"_2\", \"score\")\n// val reviewSentimentDF \u003d reviewsDF.join(temp1RDD,reviewsDF(\"review_id\") \u003d\u003d\u003d  temp1RDD(\"reviewID\"),\"inner\").drop(col(\"reviewID\"))\n// reviewSentimentDF.write.mode(\"overwrite\").parquet(\"BDAD_Project/reviewsSentiment.parquet\")\n\nval AFINN \u003d sc.textFile(\"bdad/project/AFINN-111.txt\").map(x\u003d\u003e x.split(\"\\t\")).map(x\u003d\u003e(x(0).toString,x(1).toInt)).toDF().withColumnRenamed(\"_1\", \"word\").withColumnRenamed(\"_2\", \"score\")\nvar temp \u003d reviewsDF.withColumn(\"reviewText\", explode(split(col(\"review_text\"),\" \")))\nvar temp1 \u003d temp.join(AFINN, temp(\"reviewText\") \u003d\u003d\u003d  AFINN(\"word\"),\"inner\").drop(\"word\").groupBy(col(\"review_id\")).avg(\"score\").withColumnRenamed(\"avg(score)\", \"score\").withColumnRenamed(\"review_iD\", \"reviewID\")\nvar temp2 \u003d reviewsDF.join(temp1, reviewsDF(\"review_id\") \u003d\u003d\u003d temp1(\"reviewId\")).drop(\"reviewID\")\ntemp2.write.mode(\"overwrite\").parquet(\"BDAD_Project/reviewsSentiment.parquet\")"
    },
    {
      "cell_type": "code",
      "execution_count": 22,
      "metadata": {
        "autoscroll": "auto"
      },
      "outputs": [],
      "source": "// val reviewSentimentDF \u003d spark.read.parquet(\"BDAD_Project/reviewsSentiment.parquet\")\n// z.show(reviewSentimentDF.groupBy(\"book_id\").count.orderBy(desc(\"count\")))\n\nval bookId \u003d 11870085\n// reviewSentimentDF.filter(col(\"book_id\") \u003d\u003d\u003d bookId).count\nz.show(booksDF.filter(col(\"book_id\") \u003d\u003d\u003d bookId))\n"
    },
    {
      "cell_type": "markdown",
      "metadata": {},
      "source": "### Top and Bottom 3 reviews by likes count"
    },
    {
      "cell_type": "code",
      "execution_count": 24,
      "metadata": {
        "autoscroll": "auto"
      },
      "outputs": [],
      "source": "// z.show(reviewSentimentDF.filter(col(\"book_id\") \u003d\u003d\u003d bookId).select(col(\"review_text\"), col(\"n_votes\")).orderBy(desc(\"n_votes\")).select(col(\"review_text\")).withColumnRenamed(\"review_text\", \"Top 3\").limit(3))\n// z.show(reviewSentimentDF.filter(col(\"book_id\") \u003d\u003d\u003d bookId).select(col(\"review_text\"), col(\"n_votes\")).orderBy(asc(\"n_votes\")).select(col(\"review_text\")).withColumnRenamed(\"review_text\", \"Bottom 3\").limit(3))\n\nz.show(reviewSentimentDF.filter(col(\"book_id\") \u003d\u003d\u003d bookId).filter(col(\"score\") \u003e 0).select(col(\"review_text\"), col(\"n_votes\"), col(\"score\")).orderBy(desc(\"n_votes\")).withColumnRenamed(\"review_text\", \"Top voted positive sentiment review\").limit(3))\nz.show(reviewSentimentDF.filter(col(\"book_id\") \u003d\u003d\u003d bookId).filter(col(\"score\") \u003c 0).select(col(\"review_text\"), col(\"n_votes\"), col(\"score\")).orderBy(desc(\"n_votes\")).withColumnRenamed(\"review_text\", \"Top voted negative sentiment review\").limit(3))"
    },
    {
      "cell_type": "markdown",
      "metadata": {},
      "source": "### Top and Bottom 3 reviews by sentiment scores"
    },
    {
      "cell_type": "code",
      "execution_count": 26,
      "metadata": {
        "autoscroll": "auto"
      },
      "outputs": [],
      "source": "z.show(reviewSentimentDF.filter(col(\"book_id\") \u003d\u003d\u003d bookId).select(col(\"review_text\"), col(\"score\")).orderBy(desc(\"score\")).select(col(\"review_text\")).withColumnRenamed(\"review_text\", \"Top 3\").limit(3))\nz.show(reviewSentimentDF.filter(col(\"book_id\") \u003d\u003d\u003d bookId).select(col(\"review_text\"), col(\"score\")).orderBy(asc(\"score\")).select(col(\"review_text\")).withColumnRenamed(\"review_text\", \"Bottom 3\").limit(3))"
    },
    {
      "cell_type": "markdown",
      "metadata": {},
      "source": "### Fraction of positive and negative reviews by sentiment scores"
    },
    {
      "cell_type": "code",
      "execution_count": 28,
      "metadata": {
        "autoscroll": "auto"
      },
      "outputs": [],
      "source": "var t1 \u003d reviewSentimentDF.filter(col(\"book_id\") \u003d\u003d\u003d bookId).select(col(\"score\")).filter(col(\"score\") \u003c 0).count\nvar t2 \u003d reviewSentimentDF.filter(col(\"book_id\") \u003d\u003d\u003d bookId).select(col(\"score\")).filter(col(\"score\") \u003e 0).count\n\nvar positive_review \u003d t2.toFloat / (t1+t2)\nvar negative_review \u003d t1.toFloat / (t1+t2)"
    }
  ]
}