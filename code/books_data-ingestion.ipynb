{
  "metadata": {
    "name": "data_cleaning_profiling",
    "kernelspec": {
      "language": "scala",
      "name": "spark2-scala"
    },
    "language_info": {
      "codemirror_mode": "text/x-scala",
      "file_extension": ".scala",
      "mimetype": "text/x-scala",
      "name": "scala",
      "pygments_lexer": "scala"
    }
  },
  "nbformat": 4,
  "nbformat_minor": 2,
  "cells": [
    {
      "cell_type": "markdown",
      "metadata": {},
      "source": "### Importing the goodreads books dataset"
    },
    {
      "cell_type": "code",
      "execution_count": 1,
      "metadata": {
        "autoscroll": "auto"
      },
      "outputs": [],
      "source": "val filePath \u003d \"bdad/project/dataset/goodreads_books.json\"\n\nval books_df \u003d spark.read.json(filePath)\nz.show(books_df)"
    },
    {
      "cell_type": "code",
      "execution_count": 2,
      "metadata": {
        "autoscroll": "auto"
      },
      "outputs": [],
      "source": "books_df.printSchema()"
    },
    {
      "cell_type": "code",
      "execution_count": 3,
      "metadata": {
        "autoscroll": "auto"
      },
      "outputs": [],
      "source": "books_df.count"
    },
    {
      "cell_type": "markdown",
      "metadata": {},
      "source": "### Data Cleaning"
    },
    {
      "cell_type": "markdown",
      "metadata": {},
      "source": "Extracting the required fields from array of struct like fields (`authors`, `popular_shelves`)"
    },
    {
      "cell_type": "code",
      "execution_count": 6,
      "metadata": {
        "autoscroll": "auto"
      },
      "outputs": [],
      "source": "val author_books_df \u003d books_df.withColumn(\"author_ids\", expr(\"\"\"authors.author_id\"\"\"))\nval author_genre_books_df \u003d author_books_df.withColumn(\"popular_shelves_genre\", expr(\"\"\"slice(popular_shelves.name,1,5)\"\"\"))\nz.show(author_genre_books_df)"
    },
    {
      "cell_type": "markdown",
      "metadata": {},
      "source": "Selecting the important columns from the dataset"
    },
    {
      "cell_type": "code",
      "execution_count": 8,
      "metadata": {
        "autoscroll": "auto"
      },
      "outputs": [],
      "source": "val books_base_df \u003d author_genre_books_df.select(\n    \"book_id\",\n    \"title\",\n    \"title_without_series\",\n    \"average_rating\",\n    \"description\",\n    \"num_pages\",\n    \"ratings_count\",\n    \"author_ids\",\n    \"publisher\",\n    \"popular_shelves_genre\",\n    \"is_ebook\",\n    \"similar_books\",\n    \"country_code\",\n    \"language_code\"\n)\nz.show(books_base_df)"
    },
    {
      "cell_type": "markdown",
      "metadata": {},
      "source": "Changing the type of several columns and also filling in default values for some columns that have missing values"
    },
    {
      "cell_type": "code",
      "execution_count": 10,
      "metadata": {
        "autoscroll": "auto"
      },
      "outputs": [],
      "source": "val casted_books_df \u003d books_base_df.withColumn(\"average_rating\", col(\"average_rating\").cast(\"double\")).withColumn(\"ratings_count\", col(\"ratings_count\").cast(\"int\")).withColumn(\"num_pages\", col(\"num_pages\").cast(\"int\")).withColumn(\"num_pages\", col(\"num_pages\").cast(\"int\")).withColumn(\"is_ebook\", col(\"is_ebook\").cast(\"boolean\"))\nval non_null_books_df \u003d casted_books_df.na.fill(0, Array(\"num_pages\", \"ratings_count\", \"average_rating\")).na.fill(false, Array(\"is_ebook\"))\nnon_null_books_df.printSchema()"
    },
    {
      "cell_type": "markdown",
      "metadata": {},
      "source": "One record after data cleaning"
    },
    {
      "cell_type": "code",
      "execution_count": 12,
      "metadata": {
        "autoscroll": "auto"
      },
      "outputs": [],
      "source": "non_null_books_df.show(1, false)"
    },
    {
      "cell_type": "markdown",
      "metadata": {},
      "source": "### Data Profiling"
    },
    {
      "cell_type": "code",
      "execution_count": 14,
      "metadata": {
        "autoscroll": "auto"
      },
      "outputs": [],
      "source": "non_null_books_df.groupBy(\"country_code\").count().show()"
    },
    {
      "cell_type": "code",
      "execution_count": 15,
      "metadata": {
        "autoscroll": "auto"
      },
      "outputs": [],
      "source": "non_null_books_df.groupBy(\"language_code\").count().show()"
    },
    {
      "cell_type": "code",
      "execution_count": 16,
      "metadata": {
        "autoscroll": "auto"
      },
      "outputs": [],
      "source": "non_null_books_df.groupBy(\"is_ebook\").count().show()"
    },
    {
      "cell_type": "code",
      "execution_count": 17,
      "metadata": {
        "autoscroll": "auto"
      },
      "outputs": [],
      "source": "non_null_books_df.select(\"num_pages\").describe().show()"
    },
    {
      "cell_type": "code",
      "execution_count": 18,
      "metadata": {
        "autoscroll": "auto"
      },
      "outputs": [],
      "source": "non_null_books_df.withColumn(\"similar_books_length\", size(col(\"similar_books\"))).select(avg($\"similar_books_length\")).show()"
    },
    {
      "cell_type": "code",
      "execution_count": 19,
      "metadata": {
        "autoscroll": "auto"
      },
      "outputs": [],
      "source": "non_null_books_df.withColumn(\"description_length\", length(col(\"description\"))).select(avg($\"description_length\")).show()\n"
    },
    {
      "cell_type": "code",
      "execution_count": 20,
      "metadata": {
        "autoscroll": "auto"
      },
      "outputs": [],
      "source": "non_null_books_df.withColumn(\"genres\", explode(col(\"popular_shelves_genre\"))).groupBy(\"genres\").count().show()"
    },
    {
      "cell_type": "markdown",
      "metadata": {},
      "source": "### Saving the cleaned dataset"
    },
    {
      "cell_type": "code",
      "execution_count": 22,
      "metadata": {
        "autoscroll": "auto"
      },
      "outputs": [],
      "source": "non_null_books_df.write.mode(\"overwrite\").parquet(\"bdad/project/dataset/books.parquet\")"
    }
  ]
}